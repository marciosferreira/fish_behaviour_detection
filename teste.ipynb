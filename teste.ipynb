{
 "cells": [
  {
   "cell_type": "code",
   "execution_count": 88,
   "metadata": {},
   "outputs": [
    {
     "name": "stdout",
     "output_type": "stream",
     "text": [
      "(622.0, 609.0)\n"
     ]
    }
   ],
   "source": [
    "\"\"\"\n",
    "Lyle Scott, III  // lyle@ls3.io\n",
    "Multiple ways to rotate a 2D point around the origin / a point.\n",
    "Timer benchmark results @ https://gist.github.com/LyleScott/d17e9d314fbe6fc29767d8c5c029c362\n",
    "\"\"\"\n",
    "from __future__ import print_function\n",
    "\n",
    "import math\n",
    "import numpy as np\n",
    "\n",
    "\n",
    "def rotate_via_numpy(xy, radians):\n",
    "    \"\"\"Use numpy to build a rotation matrix and take the dot product.\"\"\"\n",
    "    x, y = xy\n",
    "    c, s = np.cos(radians), np.sin(radians)\n",
    "    j = np.matrix([[c, s], [-s, c]])\n",
    "    m = np.dot(j, [x, y])\n",
    "\n",
    "    return float(m.T[0]), float(m.T[1])\n",
    "\n",
    "\n",
    "def rotate_origin_only(xy, radians):\n",
    "    \"\"\"Only rotate a point around the origin (0, 0).\"\"\"\n",
    "    x, y = xy\n",
    "    xx = x * math.cos(radians) + y * math.sin(radians)\n",
    "    yy = -x * math.sin(radians) + y * math.cos(radians)\n",
    "\n",
    "    return xx, yy\n",
    "\n",
    "\n",
    "def rotate_around_point_lowperf(point, radians, origin):\n",
    "    \"\"\"Rotate a point around a given point.\n",
    "    \n",
    "    I call this the \"low performance\" version since it's recalculating\n",
    "    the same values more than once [cos(radians), sin(radians), x-ox, y-oy).\n",
    "    It's more readable than the next function, though.\n",
    "    \"\"\"\n",
    "    x, y = point\n",
    "    ox, oy = origin\n",
    "\n",
    "    qx = ox + math.cos(radians) * (x - ox) + math.sin(radians) * (y - oy)\n",
    "    qy = oy + -math.sin(radians) * (x - ox) + math.cos(radians) * (y - oy)\n",
    "\n",
    "    return qx, qy\n",
    "\n",
    "\n",
    "def rotate_around_point_highperf(xy, radians, origin=(0, 0)):\n",
    "    \"\"\"Rotate a point around a given point.\n",
    "    \n",
    "    I call this the \"high performance\" version since we're caching some\n",
    "    values that are needed >1 time. It's less readable than the previous\n",
    "    function but it's faster.\n",
    "    \"\"\"\n",
    "    x, y = xy\n",
    "    offset_x, offset_y = origin\n",
    "    adjusted_x = (x - offset_x)\n",
    "    adjusted_y = (y - offset_y)\n",
    "    cos_rad = math.cos(radians)\n",
    "    sin_rad = math.sin(radians)\n",
    "    qx = offset_x + cos_rad * adjusted_x + sin_rad * adjusted_y\n",
    "    qy = offset_y + -sin_rad * adjusted_x + cos_rad * adjusted_y\n",
    "\n",
    "    return qx, qy\n",
    "\n",
    "\n",
    "def _main():\n",
    "    theta = math.radians(180)\n",
    "    point = (612, 599)\n",
    "    origin = (617, 604)\n",
    "\n",
    "    #print(rotate_via_numpy(point, theta))\n",
    "    #print(rotate_origin_only(point, theta))\n",
    "    print(rotate_around_point_lowperf(point, theta, origin))\n",
    "    #print(rotate_around_point_highperf(point, theta))\n",
    "\n",
    "\n",
    "if __name__ == '__main__':\n",
    "    _main()"
   ]
  },
  {
   "cell_type": "code",
   "execution_count": 2,
   "metadata": {},
   "outputs": [
    {
     "data": {
      "text/plain": [
       "2"
      ]
     },
     "execution_count": 2,
     "metadata": {},
     "output_type": "execute_result"
    }
   ],
   "source": [
    "max(1,2)"
   ]
  },
  {
   "cell_type": "code",
   "execution_count": 53,
   "metadata": {},
   "outputs": [
    {
     "data": {
      "text/plain": [
       "1"
      ]
     },
     "execution_count": 53,
     "metadata": {},
     "output_type": "execute_result"
    }
   ],
   "source": [
    "-1-(-2)"
   ]
  },
  {
   "cell_type": "code",
   "execution_count": 17,
   "metadata": {},
   "outputs": [
    {
     "data": {
      "text/plain": [
       "429.50837513055467"
      ]
     },
     "execution_count": 17,
     "metadata": {},
     "output_type": "execute_result"
    }
   ],
   "source": [
    "newX"
   ]
  },
  {
   "cell_type": "code",
   "execution_count": 18,
   "metadata": {},
   "outputs": [
    {
     "data": {
      "text/plain": [
       "-394.36348169260134"
      ]
     },
     "execution_count": 18,
     "metadata": {},
     "output_type": "execute_result"
    }
   ],
   "source": [
    "newY"
   ]
  },
  {
   "cell_type": "code",
   "execution_count": 21,
   "metadata": {},
   "outputs": [
    {
     "data": {
      "text/plain": [
       "(2, 1)"
      ]
     },
     "execution_count": 21,
     "metadata": {},
     "output_type": "execute_result"
    }
   ],
   "source": [
    "x = (1,2)\n",
    "tuple(reversed(x))\n"
   ]
  }
 ],
 "metadata": {
  "kernelspec": {
   "display_name": "Python 3.8.10 ('medaka_env')",
   "language": "python",
   "name": "python3"
  },
  "language_info": {
   "codemirror_mode": {
    "name": "ipython",
    "version": 3
   },
   "file_extension": ".py",
   "mimetype": "text/x-python",
   "name": "python",
   "nbconvert_exporter": "python",
   "pygments_lexer": "ipython3",
   "version": "3.8.10"
  },
  "orig_nbformat": 4,
  "vscode": {
   "interpreter": {
    "hash": "7d090f65a53380a947399f857a93512f70d29b908a29f92628d7cf635fe1e02a"
   }
  }
 },
 "nbformat": 4,
 "nbformat_minor": 2
}
